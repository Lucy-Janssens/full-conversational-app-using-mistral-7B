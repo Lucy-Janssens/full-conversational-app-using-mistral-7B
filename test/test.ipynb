{
 "cells": [
  {
   "cell_type": "code",
   "execution_count": 1,
   "metadata": {
    "collapsed": true,
    "ExecuteTime": {
     "end_time": "2024-02-26T17:45:13.209170Z",
     "start_time": "2024-02-26T17:44:57.488506Z"
    }
   },
   "outputs": [
    {
     "name": "stdout",
     "output_type": "stream",
     "text": [
      "Collecting git+https://github.com/kashif/diffusers.git@wuerstchen-v3\r\n",
      "  Cloning https://github.com/kashif/diffusers.git (to revision wuerstchen-v3) to /private/var/folders/ns/hlcwc6_10pq7bmk8473dlt440000gn/T/pip-req-build-rm5mpjt5\r\n",
      "  Running command git clone --filter=blob:none --quiet https://github.com/kashif/diffusers.git /private/var/folders/ns/hlcwc6_10pq7bmk8473dlt440000gn/T/pip-req-build-rm5mpjt5\r\n",
      "  Running command git checkout -b wuerstchen-v3 --track origin/wuerstchen-v3\r\n",
      "  Switched to a new branch 'wuerstchen-v3'\r\n",
      "  branch 'wuerstchen-v3' set up to track 'origin/wuerstchen-v3'.\r\n",
      "  Resolved https://github.com/kashif/diffusers.git to commit f18ff232b52a5a5b32130ea807a6c50eeacf93e0\r\n",
      "  Installing build dependencies ... \u001B[?25ldone\r\n",
      "\u001B[?25h  Getting requirements to build wheel ... \u001B[?25ldone\r\n",
      "\u001B[?25h  Preparing metadata (pyproject.toml) ... \u001B[?25ldone\r\n",
      "\u001B[?25hRequirement already satisfied: importlib-metadata in /Users/lucfer/anaconda3/lib/python3.11/site-packages (from diffusers==0.27.0.dev0) (6.0.0)\r\n",
      "Requirement already satisfied: filelock in /Users/lucfer/anaconda3/lib/python3.11/site-packages (from diffusers==0.27.0.dev0) (3.9.0)\r\n",
      "Requirement already satisfied: huggingface-hub>=0.20.2 in /Users/lucfer/anaconda3/lib/python3.11/site-packages (from diffusers==0.27.0.dev0) (0.20.3)\r\n",
      "Requirement already satisfied: numpy in /Users/lucfer/anaconda3/lib/python3.11/site-packages (from diffusers==0.27.0.dev0) (1.24.3)\r\n",
      "Requirement already satisfied: regex!=2019.12.17 in /Users/lucfer/anaconda3/lib/python3.11/site-packages (from diffusers==0.27.0.dev0) (2022.7.9)\r\n",
      "Requirement already satisfied: requests in /Users/lucfer/anaconda3/lib/python3.11/site-packages (from diffusers==0.27.0.dev0) (2.31.0)\r\n",
      "Requirement already satisfied: safetensors>=0.3.1 in /Users/lucfer/anaconda3/lib/python3.11/site-packages (from diffusers==0.27.0.dev0) (0.4.2)\r\n",
      "Requirement already satisfied: Pillow in /Users/lucfer/anaconda3/lib/python3.11/site-packages (from diffusers==0.27.0.dev0) (9.4.0)\r\n",
      "Requirement already satisfied: fsspec>=2023.5.0 in /Users/lucfer/anaconda3/lib/python3.11/site-packages (from huggingface-hub>=0.20.2->diffusers==0.27.0.dev0) (2023.10.0)\r\n",
      "Requirement already satisfied: tqdm>=4.42.1 in /Users/lucfer/anaconda3/lib/python3.11/site-packages (from huggingface-hub>=0.20.2->diffusers==0.27.0.dev0) (4.65.0)\r\n",
      "Requirement already satisfied: pyyaml>=5.1 in /Users/lucfer/anaconda3/lib/python3.11/site-packages (from huggingface-hub>=0.20.2->diffusers==0.27.0.dev0) (6.0)\r\n",
      "Requirement already satisfied: typing-extensions>=3.7.4.3 in /Users/lucfer/anaconda3/lib/python3.11/site-packages (from huggingface-hub>=0.20.2->diffusers==0.27.0.dev0) (4.9.0)\r\n",
      "Requirement already satisfied: packaging>=20.9 in /Users/lucfer/anaconda3/lib/python3.11/site-packages (from huggingface-hub>=0.20.2->diffusers==0.27.0.dev0) (23.0)\r\n",
      "Requirement already satisfied: zipp>=0.5 in /Users/lucfer/anaconda3/lib/python3.11/site-packages (from importlib-metadata->diffusers==0.27.0.dev0) (3.11.0)\r\n",
      "Requirement already satisfied: charset-normalizer<4,>=2 in /Users/lucfer/anaconda3/lib/python3.11/site-packages (from requests->diffusers==0.27.0.dev0) (2.0.4)\r\n",
      "Requirement already satisfied: idna<4,>=2.5 in /Users/lucfer/anaconda3/lib/python3.11/site-packages (from requests->diffusers==0.27.0.dev0) (3.4)\r\n",
      "Requirement already satisfied: urllib3<3,>=1.21.1 in /Users/lucfer/anaconda3/lib/python3.11/site-packages (from requests->diffusers==0.27.0.dev0) (1.26.18)\r\n",
      "Requirement already satisfied: certifi>=2017.4.17 in /Users/lucfer/anaconda3/lib/python3.11/site-packages (from requests->diffusers==0.27.0.dev0) (2024.2.2)\r\n",
      "Building wheels for collected packages: diffusers\r\n",
      "  Building wheel for diffusers (pyproject.toml) ... \u001B[?25ldone\r\n",
      "\u001B[?25h  Created wheel for diffusers: filename=diffusers-0.27.0.dev0-py3-none-any.whl size=1972869 sha256=e00933dc084658315760403c447f8724a29472bec83a5a74d1dbbcb1ccb78fb3\r\n",
      "  Stored in directory: /private/var/folders/ns/hlcwc6_10pq7bmk8473dlt440000gn/T/pip-ephem-wheel-cache-z1vjb084/wheels/af/48/b8/8897415dc78cea473e4bedead6731cdf339961244db3f4f5c8\r\n",
      "Successfully built diffusers\r\n",
      "Installing collected packages: diffusers\r\n",
      "Successfully installed diffusers-0.27.0.dev0\r\n"
     ]
    }
   ],
   "source": [
    "!pip install git+https://github.com/kashif/diffusers.git@wuerstchen-v3"
   ]
  },
  {
   "cell_type": "code",
   "execution_count": 8,
   "outputs": [
    {
     "name": "stdout",
     "output_type": "stream",
     "text": [
      "Requirement already satisfied: huggingface_hub in /Users/lucfer/anaconda3/lib/python3.11/site-packages (0.17.3)\r\n",
      "Requirement already satisfied: filelock in /Users/lucfer/anaconda3/lib/python3.11/site-packages (from huggingface_hub) (3.9.0)\r\n",
      "Requirement already satisfied: fsspec in /Users/lucfer/anaconda3/lib/python3.11/site-packages (from huggingface_hub) (2023.10.0)\r\n",
      "Requirement already satisfied: requests in /Users/lucfer/anaconda3/lib/python3.11/site-packages (from huggingface_hub) (2.31.0)\r\n",
      "Requirement already satisfied: tqdm>=4.42.1 in /Users/lucfer/anaconda3/lib/python3.11/site-packages (from huggingface_hub) (4.65.0)\r\n",
      "Requirement already satisfied: pyyaml>=5.1 in /Users/lucfer/anaconda3/lib/python3.11/site-packages (from huggingface_hub) (6.0)\r\n",
      "Requirement already satisfied: typing-extensions>=3.7.4.3 in /Users/lucfer/anaconda3/lib/python3.11/site-packages (from huggingface_hub) (4.9.0)\r\n",
      "Requirement already satisfied: packaging>=20.9 in /Users/lucfer/anaconda3/lib/python3.11/site-packages (from huggingface_hub) (23.0)\r\n",
      "Requirement already satisfied: charset-normalizer<4,>=2 in /Users/lucfer/anaconda3/lib/python3.11/site-packages (from requests->huggingface_hub) (2.0.4)\r\n",
      "Requirement already satisfied: idna<4,>=2.5 in /Users/lucfer/anaconda3/lib/python3.11/site-packages (from requests->huggingface_hub) (3.4)\r\n",
      "Requirement already satisfied: urllib3<3,>=1.21.1 in /Users/lucfer/anaconda3/lib/python3.11/site-packages (from requests->huggingface_hub) (1.26.18)\r\n",
      "Requirement already satisfied: certifi>=2017.4.17 in /Users/lucfer/anaconda3/lib/python3.11/site-packages (from requests->huggingface_hub) (2024.2.2)\r\n"
     ]
    }
   ],
   "source": [
    "!pip install huggingface_hub"
   ],
   "metadata": {
    "collapsed": false,
    "ExecuteTime": {
     "end_time": "2024-02-26T17:48:26.937292Z",
     "start_time": "2024-02-26T17:48:24.225795Z"
    }
   }
  },
  {
   "cell_type": "code",
   "execution_count": 9,
   "outputs": [
    {
     "ename": "ImportError",
     "evalue": "cannot import name 'HF_HOME' from 'huggingface_hub.constants' (/Users/lucfer/anaconda3/lib/python3.11/site-packages/huggingface_hub/constants.py)",
     "output_type": "error",
     "traceback": [
      "\u001B[0;31m---------------------------------------------------------------------------\u001B[0m",
      "\u001B[0;31mImportError\u001B[0m                               Traceback (most recent call last)",
      "Cell \u001B[0;32mIn[9], line 2\u001B[0m\n\u001B[1;32m      1\u001B[0m \u001B[38;5;28;01mimport\u001B[39;00m \u001B[38;5;21;01mtorch\u001B[39;00m\n\u001B[0;32m----> 2\u001B[0m \u001B[38;5;28;01mfrom\u001B[39;00m \u001B[38;5;21;01mdiffusers\u001B[39;00m \u001B[38;5;28;01mimport\u001B[39;00m StableCascadeDecoderPipeline, StableCascadePriorPipeline\n",
      "File \u001B[0;32m~/anaconda3/lib/python3.11/site-packages/diffusers/__init__.py:5\u001B[0m\n\u001B[1;32m      1\u001B[0m __version__ \u001B[38;5;241m=\u001B[39m \u001B[38;5;124m\"\u001B[39m\u001B[38;5;124m0.27.0.dev0\u001B[39m\u001B[38;5;124m\"\u001B[39m\n\u001B[1;32m      3\u001B[0m \u001B[38;5;28;01mfrom\u001B[39;00m \u001B[38;5;21;01mtyping\u001B[39;00m \u001B[38;5;28;01mimport\u001B[39;00m TYPE_CHECKING\n\u001B[0;32m----> 5\u001B[0m \u001B[38;5;28;01mfrom\u001B[39;00m \u001B[38;5;21;01m.\u001B[39;00m\u001B[38;5;21;01mutils\u001B[39;00m \u001B[38;5;28;01mimport\u001B[39;00m (\n\u001B[1;32m      6\u001B[0m     DIFFUSERS_SLOW_IMPORT,\n\u001B[1;32m      7\u001B[0m     OptionalDependencyNotAvailable,\n\u001B[1;32m      8\u001B[0m     _LazyModule,\n\u001B[1;32m      9\u001B[0m     is_flax_available,\n\u001B[1;32m     10\u001B[0m     is_k_diffusion_available,\n\u001B[1;32m     11\u001B[0m     is_librosa_available,\n\u001B[1;32m     12\u001B[0m     is_note_seq_available,\n\u001B[1;32m     13\u001B[0m     is_onnx_available,\n\u001B[1;32m     14\u001B[0m     is_scipy_available,\n\u001B[1;32m     15\u001B[0m     is_torch_available,\n\u001B[1;32m     16\u001B[0m     is_torchsde_available,\n\u001B[1;32m     17\u001B[0m     is_transformers_available,\n\u001B[1;32m     18\u001B[0m )\n\u001B[1;32m     21\u001B[0m \u001B[38;5;66;03m# Lazy Import based on\u001B[39;00m\n\u001B[1;32m     22\u001B[0m \u001B[38;5;66;03m# https://github.com/huggingface/transformers/blob/main/src/transformers/__init__.py\u001B[39;00m\n\u001B[1;32m     23\u001B[0m \n\u001B[1;32m     24\u001B[0m \u001B[38;5;66;03m# When adding a new object to this init, please add it to `_import_structure`. The `_import_structure` is a dictionary submodule to list of object names,\u001B[39;00m\n\u001B[1;32m     25\u001B[0m \u001B[38;5;66;03m# and is used to defer the actual importing for when the objects are requested.\u001B[39;00m\n\u001B[1;32m     26\u001B[0m \u001B[38;5;66;03m# This way `import diffusers` provides the names in the namespace without actually importing anything (and especially none of the backends).\u001B[39;00m\n\u001B[1;32m     28\u001B[0m _import_structure \u001B[38;5;241m=\u001B[39m {\n\u001B[1;32m     29\u001B[0m     \u001B[38;5;124m\"\u001B[39m\u001B[38;5;124mconfiguration_utils\u001B[39m\u001B[38;5;124m\"\u001B[39m: [\u001B[38;5;124m\"\u001B[39m\u001B[38;5;124mConfigMixin\u001B[39m\u001B[38;5;124m\"\u001B[39m],\n\u001B[1;32m     30\u001B[0m     \u001B[38;5;124m\"\u001B[39m\u001B[38;5;124mmodels\u001B[39m\u001B[38;5;124m\"\u001B[39m: [],\n\u001B[0;32m   (...)\u001B[0m\n\u001B[1;32m     50\u001B[0m     ],\n\u001B[1;32m     51\u001B[0m }\n",
      "File \u001B[0;32m~/anaconda3/lib/python3.11/site-packages/diffusers/utils/__init__.py:21\u001B[0m\n\u001B[1;32m     18\u001B[0m \u001B[38;5;28;01mfrom\u001B[39;00m \u001B[38;5;21;01mpackaging\u001B[39;00m \u001B[38;5;28;01mimport\u001B[39;00m version\n\u001B[1;32m     20\u001B[0m \u001B[38;5;28;01mfrom\u001B[39;00m \u001B[38;5;21;01m.\u001B[39;00m\u001B[38;5;21;01m.\u001B[39;00m \u001B[38;5;28;01mimport\u001B[39;00m __version__\n\u001B[0;32m---> 21\u001B[0m \u001B[38;5;28;01mfrom\u001B[39;00m \u001B[38;5;21;01m.\u001B[39;00m\u001B[38;5;21;01mconstants\u001B[39;00m \u001B[38;5;28;01mimport\u001B[39;00m (\n\u001B[1;32m     22\u001B[0m     CONFIG_NAME,\n\u001B[1;32m     23\u001B[0m     DEPRECATED_REVISION_ARGS,\n\u001B[1;32m     24\u001B[0m     DIFFUSERS_DYNAMIC_MODULE_NAME,\n\u001B[1;32m     25\u001B[0m     FLAX_WEIGHTS_NAME,\n\u001B[1;32m     26\u001B[0m     HF_MODULES_CACHE,\n\u001B[1;32m     27\u001B[0m     HUGGINGFACE_CO_RESOLVE_ENDPOINT,\n\u001B[1;32m     28\u001B[0m     MIN_PEFT_VERSION,\n\u001B[1;32m     29\u001B[0m     ONNX_EXTERNAL_WEIGHTS_NAME,\n\u001B[1;32m     30\u001B[0m     ONNX_WEIGHTS_NAME,\n\u001B[1;32m     31\u001B[0m     SAFETENSORS_FILE_EXTENSION,\n\u001B[1;32m     32\u001B[0m     SAFETENSORS_WEIGHTS_NAME,\n\u001B[1;32m     33\u001B[0m     USE_PEFT_BACKEND,\n\u001B[1;32m     34\u001B[0m     WEIGHTS_NAME,\n\u001B[1;32m     35\u001B[0m )\n\u001B[1;32m     36\u001B[0m \u001B[38;5;28;01mfrom\u001B[39;00m \u001B[38;5;21;01m.\u001B[39;00m\u001B[38;5;21;01mdeprecation_utils\u001B[39;00m \u001B[38;5;28;01mimport\u001B[39;00m deprecate\n\u001B[1;32m     37\u001B[0m \u001B[38;5;28;01mfrom\u001B[39;00m \u001B[38;5;21;01m.\u001B[39;00m\u001B[38;5;21;01mdoc_utils\u001B[39;00m \u001B[38;5;28;01mimport\u001B[39;00m replace_example_docstring\n",
      "File \u001B[0;32m~/anaconda3/lib/python3.11/site-packages/diffusers/utils/constants.py:17\u001B[0m\n\u001B[1;32m     14\u001B[0m \u001B[38;5;28;01mimport\u001B[39;00m \u001B[38;5;21;01mimportlib\u001B[39;00m\n\u001B[1;32m     15\u001B[0m \u001B[38;5;28;01mimport\u001B[39;00m \u001B[38;5;21;01mos\u001B[39;00m\n\u001B[0;32m---> 17\u001B[0m \u001B[38;5;28;01mfrom\u001B[39;00m \u001B[38;5;21;01mhuggingface_hub\u001B[39;00m\u001B[38;5;21;01m.\u001B[39;00m\u001B[38;5;21;01mconstants\u001B[39;00m \u001B[38;5;28;01mimport\u001B[39;00m HF_HOME\n\u001B[1;32m     18\u001B[0m \u001B[38;5;28;01mfrom\u001B[39;00m \u001B[38;5;21;01mpackaging\u001B[39;00m \u001B[38;5;28;01mimport\u001B[39;00m version\n\u001B[1;32m     20\u001B[0m \u001B[38;5;28;01mfrom\u001B[39;00m \u001B[38;5;21;01m.\u001B[39;00m\u001B[38;5;21;01m.\u001B[39;00m\u001B[38;5;21;01mdependency_versions_check\u001B[39;00m \u001B[38;5;28;01mimport\u001B[39;00m dep_version_check\n",
      "\u001B[0;31mImportError\u001B[0m: cannot import name 'HF_HOME' from 'huggingface_hub.constants' (/Users/lucfer/anaconda3/lib/python3.11/site-packages/huggingface_hub/constants.py)"
     ]
    }
   ],
   "source": [
    "import torch\n",
    "from diffusers import StableCascadeDecoderPipeline, StableCascadePriorPipeline"
   ],
   "metadata": {
    "collapsed": false,
    "ExecuteTime": {
     "end_time": "2024-02-26T17:48:28.968984Z",
     "start_time": "2024-02-26T17:48:28.909310Z"
    }
   }
  },
  {
   "cell_type": "code",
   "execution_count": null,
   "outputs": [],
   "source": [
    "device = \"cuda\"\n",
    "num_images_per_prompt = 2"
   ],
   "metadata": {
    "collapsed": false
   }
  },
  {
   "cell_type": "code",
   "execution_count": null,
   "outputs": [],
   "source": [
    "prior = StableCascadePriorPipeline.from_pretrained(\"stabilityai/stable-cascade-prior\", torch_dtype=torch.bfloat16).to(device)\n",
    "decoder = StableCascadeDecoderPipeline.from_pretrained(\"stabilityai/stable-cascade\",  torch_dtype=torch.float16).to(device)"
   ],
   "metadata": {
    "collapsed": false
   }
  },
  {
   "cell_type": "code",
   "execution_count": null,
   "outputs": [],
   "source": [
    "prompt = \"Anthropomorphic cat dressed as a pilot\"\n",
    "negative_prompt = \"\""
   ],
   "metadata": {
    "collapsed": false
   }
  },
  {
   "cell_type": "code",
   "execution_count": null,
   "outputs": [],
   "source": [
    "prior_output = prior(\n",
    "    prompt=prompt,\n",
    "    height=1024,\n",
    "    width=1024,\n",
    "    negative_prompt=negative_prompt,\n",
    "    guidance_scale=4.0,\n",
    "    num_images_per_prompt=num_images_per_prompt,\n",
    "    num_inference_steps=20\n",
    ")\n",
    "decoder_output = decoder(\n",
    "    image_embeddings=prior_output.image_embeddings.half(),\n",
    "    prompt=prompt,\n",
    "    negative_prompt=negative_prompt,\n",
    "    guidance_scale=0.0,\n",
    "    output_type=\"pil\",\n",
    "    num_inference_steps=10\n",
    ").images\n",
    "\n",
    "#Now decoder_output is a list with your PIL images\n"
   ],
   "metadata": {
    "collapsed": false
   }
  }
 ],
 "metadata": {
  "kernelspec": {
   "display_name": "Python 3",
   "language": "python",
   "name": "python3"
  },
  "language_info": {
   "codemirror_mode": {
    "name": "ipython",
    "version": 2
   },
   "file_extension": ".py",
   "mimetype": "text/x-python",
   "name": "python",
   "nbconvert_exporter": "python",
   "pygments_lexer": "ipython2",
   "version": "2.7.6"
  }
 },
 "nbformat": 4,
 "nbformat_minor": 0
}
